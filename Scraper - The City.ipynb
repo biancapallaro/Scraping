{
 "cells": [
  {
   "cell_type": "code",
   "execution_count": 210,
   "metadata": {},
   "outputs": [],
   "source": [
    "import pandas as pd\n",
    "import numpy as np\n",
    "import altair as alt"
   ]
  },
  {
   "cell_type": "code",
   "execution_count": 211,
   "metadata": {},
   "outputs": [],
   "source": [
    "from selenium import webdriver\n",
    "driver = webdriver.Chrome()\n",
    "driver.get(\"https://www.accesscatalog.com/\")"
   ]
  },
  {
   "cell_type": "code",
   "execution_count": 212,
   "metadata": {},
   "outputs": [],
   "source": [
    "textbox = driver.find_element_by_xpath(\"/html/body/table[3]/tbody/tr/td/table[1]/tbody/tr/td[2]/div[1]/table/tbody/tr[2]/td/form/table/tbody/tr[1]/td[2]/input\")\n",
    "textbox2 = driver.find_element_by_xpath(\"/html/body/table[3]/tbody/tr/td/table[1]/tbody/tr/td[2]/div[1]/table/tbody/tr[2]/td/form/table/tbody/tr[2]/td[2]/input\")\n",
    "textbox.send_keys(\"biancapallaro@gmail.com\")\n",
    "textbox2.send_keys(\"XXXXX\")"
   ]
  },
  {
   "cell_type": "code",
   "execution_count": 213,
   "metadata": {},
   "outputs": [],
   "source": [
    "submit_button = driver.find_element_by_xpath(\"/html/body/table[3]/tbody/tr/td/table[1]/tbody/tr/td[2]/div[1]/table/tbody/tr[2]/td/form/table/tbody/tr[3]/td[2]/input\")\n",
    "submit_button.click()"
   ]
  },
  {
   "cell_type": "code",
   "execution_count": 214,
   "metadata": {},
   "outputs": [],
   "source": [
    "driver.find_element_by_xpath(\"/html/body/table[2]/tbody/tr/td/form/table[2]/tbody/tr/td/table/tbody/tr[2]/td/select/option[34]\").click()"
   ]
  },
  {
   "cell_type": "code",
   "execution_count": 215,
   "metadata": {},
   "outputs": [],
   "source": [
    "driver.find_element_by_xpath(\"/html/body/table[2]/tbody/tr/td/form/table[2]/tbody/tr/td[2]/table/tbody/tr[2]/td/select/option[2]\").click()"
   ]
  },
  {
   "cell_type": "code",
   "execution_count": 216,
   "metadata": {},
   "outputs": [],
   "source": [
    "driver.find_element_by_xpath(\"/html/body/table[2]/tbody/tr/td/form/table[2]/tbody/tr/td[2]/table/tbody/tr[2]/td/input\").click()"
   ]
  },
  {
   "cell_type": "code",
   "execution_count": 217,
   "metadata": {},
   "outputs": [],
   "source": [
    "textbox3 = driver.find_element_by_xpath(\"/html/body/div[4]/div/div/div/form/table/tbody/tr[1]/td[1]/table/tbody/tr[2]/td/input\")\n",
    "textbox3.send_keys(\"4412100856\")"
   ]
  },
  {
   "cell_type": "code",
   "execution_count": 218,
   "metadata": {},
   "outputs": [],
   "source": [
    "driver.find_element_by_xpath(\"/html/body/div[4]/div/div/div/form/table/tbody/tr[1]/td[1]/table/tbody/tr[10]/td/input\").click()"
   ]
  },
  {
   "cell_type": "code",
   "execution_count": 219,
   "metadata": {},
   "outputs": [],
   "source": [
    "driver.find_element_by_xpath(\"/html/body/div[4]/div/div/div/form/table/tbody/tr[1]/td[2]/div/table[2]/tbody/tr[2]/td[1]/input\").click()"
   ]
  },
  {
   "cell_type": "code",
   "execution_count": 220,
   "metadata": {},
   "outputs": [],
   "source": [
    "driver.find_element_by_xpath(\"/html/body/div[4]/div/div[1]/div/div/div[1]/table/tbody/tr/td/table/tbody/tr/td/a\").click()"
   ]
  },
  {
   "cell_type": "code",
   "execution_count": 228,
   "metadata": {},
   "outputs": [],
   "source": [
    "items = driver.find_elements_by_tag_name(\"li\")\n",
    "for item in items:\n",
    "    item.click()\n",
    "    break\n",
    "    tables = driver.find_elements_by_class_name(\"ProductRegion\")\n",
    "    rows = []\n",
    "    try:\n",
    "        for table in tables:\n",
    "            for name in table.find_elements_by_class_name(\"ProductName\"):\n",
    "                row['name'] = name.text.strip()\n",
    "            for price in table.find_elements_by_class_name(\"FormPrice\"):\n",
    "                row['price'] = price.text.strip()\n",
    "            print(row)\n",
    "            rows.append(row)\n",
    "            print(\"----\")\n",
    "    except:\n",
    "        pass\n",
    "    driver.back()"
   ]
  }
 ],
 "metadata": {
  "kernelspec": {
   "display_name": "Python 3",
   "language": "python",
   "name": "python3"
  },
  "language_info": {
   "codemirror_mode": {
    "name": "ipython",
    "version": 3
   },
   "file_extension": ".py",
   "mimetype": "text/x-python",
   "name": "python",
   "nbconvert_exporter": "python",
   "pygments_lexer": "ipython3",
   "version": "3.8.2"
  }
 },
 "nbformat": 4,
 "nbformat_minor": 4
}
